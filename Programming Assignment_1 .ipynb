{
 "cells": [
  {
   "cell_type": "markdown",
   "id": "fb509184",
   "metadata": {},
   "source": [
    "1. Write a Python program to print \"Hello Python\"?"
   ]
  },
  {
   "cell_type": "code",
   "execution_count": null,
   "id": "1a9543a1",
   "metadata": {},
   "outputs": [],
   "source": [
    "print(\"Hello Python\")"
   ]
  },
  {
   "cell_type": "code",
   "execution_count": null,
   "id": "bb6d4ef8",
   "metadata": {},
   "outputs": [],
   "source": [
    "# 2. Write a Python program to do arithmetical operations addition and division.?\n",
    "\n",
    "a = int(input(\"Enter No 1 \" ))\n",
    "b = int(input(\"Enter No 2 \" ))\n",
    "c = int(input(\"Enter 1 For Addition\\nEnter 2 For substraction\\n\" ))\n",
    "if c == 1:\n",
    "    print(a+b)\n",
    "else:\n",
    "    print(a-b)"
   ]
  },
  {
   "cell_type": "code",
   "execution_count": null,
   "id": "3416b5e0",
   "metadata": {},
   "outputs": [],
   "source": [
    "# 3. Write a Python program to find the area of a triangle?\n",
    "a = int(input(\"Enter Side 1 \" ))\n",
    "b = int(input(\"Enter Side 2 \" ))\n",
    "c = int(input(\"Enter Side 3 \" ))\n",
    "s = (s*(s-a)*(s-b)*(s-c))**0.5\n",
    "print(\"Area of Triangle \" , s)"
   ]
  },
  {
   "cell_type": "code",
   "execution_count": null,
   "id": "48c73c4a",
   "metadata": {},
   "outputs": [],
   "source": [
    "# 4. Write a Python program to swap two variables?\n",
    "a = input(\"Enter First No \")\n",
    "b = input(\"Enter Second \")\n",
    "c = a\n",
    "a = b\n",
    "b = c\n",
    "print(\"First No \",a)\n",
    "print(\"Second No \",b)"
   ]
  },
  {
   "cell_type": "code",
   "execution_count": null,
   "id": "3193cc5e",
   "metadata": {},
   "outputs": [],
   "source": [
    "# 5. Write a Python program to generate a random number?\n",
    "import random\n",
    "print(random.random())"
   ]
  }
 ],
 "metadata": {
  "kernelspec": {
   "display_name": "Python 3 (ipykernel)",
   "language": "python",
   "name": "python3"
  },
  "language_info": {
   "codemirror_mode": {
    "name": "ipython",
    "version": 3
   },
   "file_extension": ".py",
   "mimetype": "text/x-python",
   "name": "python",
   "nbconvert_exporter": "python",
   "pygments_lexer": "ipython3",
   "version": "3.9.12"
  }
 },
 "nbformat": 4,
 "nbformat_minor": 5
}
